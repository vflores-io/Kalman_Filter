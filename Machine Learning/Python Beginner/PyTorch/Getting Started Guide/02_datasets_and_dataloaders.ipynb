{
  "nbformat": 4,
  "nbformat_minor": 0,
  "metadata": {
    "colab": {
      "provenance": [],
      "authorship_tag": "ABX9TyPd1oMYO74lx5Twv810y0+O",
      "include_colab_link": true
    },
    "kernelspec": {
      "name": "python3",
      "display_name": "Python 3"
    },
    "language_info": {
      "name": "python"
    }
  },
  "cells": [
    {
      "cell_type": "markdown",
      "metadata": {
        "id": "view-in-github",
        "colab_type": "text"
      },
      "source": [
        "<a href=\"https://colab.research.google.com/github/vflores-io/Kalman_Filter/blob/master/Machine%20Learning/Python%20Beginner/PyTorch/Getting%20Started%20Guide/02_datasets_and_dataloaders.ipynb\" target=\"_parent\"><img src=\"https://colab.research.google.com/assets/colab-badge.svg\" alt=\"Open In Colab\"/></a>"
      ]
    },
    {
      "cell_type": "code",
      "execution_count": null,
      "metadata": {
        "id": "CIpyz4oYBE11"
      },
      "outputs": [],
      "source": []
    }
  ]
}